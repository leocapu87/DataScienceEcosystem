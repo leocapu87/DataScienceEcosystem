{
 "cells": [
  {
   "cell_type": "markdown",
   "source": [
    "# Data Science Tools and Ecosystem\n",
    "In this notebook, Data Science Tools and Ecosystem are summarized."
   ],
   "metadata": {
    "collapsed": false
   },
   "id": "7ea166470c3b5d4b"
  },
  {
   "cell_type": "markdown",
   "source": [
    "**Objectives:**\n",
    "- List popular languages for Data Science\n",
    "- Explore data manipulation techniques\n",
    "- Understand the basics of machine learning\n",
    "- Learn how to visualize data\n",
    "- Apply data science concepts in real-world scenarios\n"
   ],
   "metadata": {
    "collapsed": false
   },
   "id": "f793310e55dc2c17"
  },
  {
   "cell_type": "markdown",
   "source": [
    "\n",
    "Some of the popular languages that Data Scientists use are:\n",
    "\n",
    "    1. Python\n",
    "    2. R\n",
    "    3. Julia\n",
    "    4. Java\n",
    "    5. SQL\n"
   ],
   "metadata": {
    "collapsed": false
   },
   "id": "e2472bd39b2ee19a"
  },
  {
   "cell_type": "markdown",
   "source": [
    "Some of the commonly used libraries used by Data Scientists include:\n",
    "    \n",
    "    1. Numpy\n",
    "    2. Pandas\n",
    "    3. Matplotlib\n",
    "    4. Scikit-Learn\n",
    "    5. TensorFlow\n",
    "\n"
   ],
   "metadata": {
    "collapsed": false
   },
   "id": "cbce4215468936b4"
  },
  {
   "cell_type": "markdown",
   "source": [
    "\n",
    "| Data Science Tools |\n",
    "|---------------------|\n",
    "| Jupyter Notebook    |\n",
    "| TensorFlow          |\n",
    "| Scikit-learn        |\n"
   ],
   "metadata": {
    "collapsed": false
   },
   "id": "71cf53d21b5f6a21"
  },
  {
   "cell_type": "markdown",
   "source": [
    "### Below are a few examples of evaluating arithmetic expressions in Python"
   ],
   "metadata": {
    "collapsed": false
   },
   "id": "1b818f4742d3041c"
  },
  {
   "cell_type": "code",
   "outputs": [
    {
     "data": {
      "text/plain": "17"
     },
     "execution_count": 1,
     "metadata": {},
     "output_type": "execute_result"
    }
   ],
   "source": [
    "(3*4)+5\n",
    "# This a simple arithmetic expression to mutiply then add integers"
   ],
   "metadata": {
    "collapsed": false,
    "ExecuteTime": {
     "end_time": "2024-03-31T15:50:43.581106Z",
     "start_time": "2024-03-31T15:50:43.574536Z"
    }
   },
   "id": "b6326a5d414acd27",
   "execution_count": 1
  },
  {
   "cell_type": "code",
   "outputs": [
    {
     "data": {
      "text/plain": "3.3333333333333335"
     },
     "execution_count": 2,
     "metadata": {},
     "output_type": "execute_result"
    }
   ],
   "source": [
    "200 / 60\n",
    "# This will convert 200 minutes to hours by diving by 60"
   ],
   "metadata": {
    "collapsed": false,
    "ExecuteTime": {
     "end_time": "2024-03-31T15:51:43.775912Z",
     "start_time": "2024-03-31T15:51:43.773020Z"
    }
   },
   "id": "8521512c9bd67568",
   "execution_count": 2
  },
  {
   "cell_type": "markdown",
   "source": [
    "## Author\n",
    "Francisco Javier Vergara Barrera\n"
   ],
   "metadata": {
    "collapsed": false
   },
   "id": "df6c36648c8e7613"
  },
  {
   "cell_type": "code",
   "outputs": [],
   "source": [],
   "metadata": {
    "collapsed": false
   },
   "id": "68ca20317d652cde"
  }
 ],
 "metadata": {
  "kernelspec": {
   "display_name": "Python 3",
   "language": "python",
   "name": "python3"
  },
  "language_info": {
   "codemirror_mode": {
    "name": "ipython",
    "version": 2
   },
   "file_extension": ".py",
   "mimetype": "text/x-python",
   "name": "python",
   "nbconvert_exporter": "python",
   "pygments_lexer": "ipython2",
   "version": "2.7.6"
  }
 },
 "nbformat": 4,
 "nbformat_minor": 5
}
